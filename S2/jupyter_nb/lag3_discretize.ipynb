{
 "cells": [
  {
   "cell_type": "code",
   "execution_count": 28,
   "metadata": {},
   "outputs": [],
   "source": [
    "import numpy as np\n",
    "import matplotlib.pyplot as plt\n",
    "import control as ctl"
   ]
  },
  {
   "cell_type": "markdown",
   "metadata": {},
   "source": [
    "#### input vectors\n",
    "\n",
    "* u_states[0] = previous input of 1st section\n",
    "* u_states[1] = current input of 1st section\n",
    "* u_states[2] = previous input of 2nd section\n",
    "* u_states[3] = current inputt of 2nd section\n",
    "* u_states[4] = previous input of 3rd section\n",
    "* u_states[5] = current input of 3rd section\n",
    "\n",
    "#### output vectors\n",
    "\n",
    "* y_states[0] = previous output of 1st section\n",
    "* y_states[1] = current output of 1st section\n",
    "* y_states[2] = previous output of 2nd section\n",
    "* y_states[3] = current output of 2nd section\n",
    "* y_states[4] = previous output of 3rd section\n",
    "* y_states[5] = current output of 3rd section"
   ]
  },
  {
   "cell_type": "code",
   "execution_count": 29,
   "metadata": {},
   "outputs": [],
   "source": [
    "def lag3(a,b,T, u, u_states, y_states):\n",
    "    for k in range(3):\n",
    "        y_states[2*k] = y_states[2*k+1]\n",
    "        u_states[2*k] = u_states[2*k+1]\n",
    "        if k == 0:\n",
    "            u_states[2*k+1] = u\n",
    "        else:\n",
    "            u_states[2*k+1] = y_states[2*k-1]\n",
    "        y_states[2*k+1] = (1/a)*(-b*y_states[2*k]+T*(u_states[2*k+1]+u_states[2*k]))\n",
    "    return y_states[5]\n",
    "                                 \n",
    "    "
   ]
  },
  {
   "cell_type": "code",
   "execution_count": 30,
   "metadata": {},
   "outputs": [],
   "source": [
    "# lag3 simulation function\n",
    "def lag3sim(uvec, tvec):\n",
    "    yvec = np.zeros(tvec.shape)\n",
    "    T = tvec[1] - tvec[0]\n",
    "    a = 2 + T\n",
    "    b = T - 2\n",
    "    u_states = np.zeros((6,1))\n",
    "    y_states = np.zeros((6,1))\n",
    "    for i in range(len(tvec)):\n",
    "        yvec[i] = lag3(a,b,T, uvec[i], u_states, y_states)\n",
    "    return yvec\n"
   ]
  },
  {
   "cell_type": "markdown",
   "metadata": {},
   "source": [
    "Compare the result"
   ]
  },
  {
   "cell_type": "code",
   "execution_count": 31,
   "metadata": {},
   "outputs": [
    {
     "data": {
      "image/png": "[encoded data removed]",
      "text/plain": [
       "<Figure size 576x288 with 1 Axes>"
      ]
     },
     "metadata": {
      "needs_background": "light"
     },
     "output_type": "display_data"
    }
   ],
   "source": [
    "s = ctl.tf('s')\n",
    "P = 1/(s+1)**3\n",
    "tvec = np.arange(0,15,0.01)\n",
    "uvec = np.ones(tvec.shape)\n",
    "tout, y1 = ctl.step_response(P, tvec)\n",
    "y2 = lag3sim(uvec, tvec)\n",
    "plt.figure(figsize=(8,4))\n",
    "plt.plot(tvec,uvec,'b-.',tvec,y1,'g-',tvec,y2,'r-')\n",
    "plt.xlabel('time (sec)')\n",
    "plt.ylabel('y(t)')\n",
    "plt.legend(['ref.cmd','from ctl.step_response()','from algorithm'])\n",
    "plt.show()"
   ]
  },
  {
   "cell_type": "code",
   "execution_count": null,
   "metadata": {},
   "outputs": [],
   "source": [
    "uvec[0]"
   ]
  },
  {
   "cell_type": "code",
   "execution_count": null,
   "metadata": {},
   "outputs": [],
   "source": [
    "T = tvec[1]-tvec[0]\n",
    "T"
   ]
  },
  {
   "cell_type": "code",
   "execution_count": null,
   "metadata": {},
   "outputs": [],
   "source": []
  },
  {
   "cell_type": "code",
   "execution_count": null,
   "metadata": {},
   "outputs": [],
   "source": []
  },
  {
   "cell_type": "code",
   "execution_count": null,
   "metadata": {},
   "outputs": [],
   "source": []
  },
  {
   "cell_type": "code",
   "execution_count": null,
   "metadata": {},
   "outputs": [],
   "source": []
  },
  {
   "cell_type": "code",
   "execution_count": null,
   "metadata": {},
   "outputs": [],
   "source": []
  },
  {
   "cell_type": "code",
   "execution_count": null,
   "metadata": {},
   "outputs": [],
   "source": []
  },
  {
   "cell_type": "code",
   "execution_count": null,
   "metadata": {},
   "outputs": [],
   "source": []
  },
  {
   "cell_type": "code",
   "execution_count": null,
   "metadata": {},
   "outputs": [],
   "source": []
  },
  {
   "cell_type": "code",
   "execution_count": null,
   "metadata": {},
   "outputs": [],
   "source": []
  },
  {
   "cell_type": "code",
   "execution_count": null,
   "metadata": {},
   "outputs": [],
   "source": []
  }
 ],
 "metadata": {
  "kernelspec": {
   "display_name": "Python 3.7 (controlenv)",
   "language": "python",
   "name": "controlenv"
  },
  "language_info": {
   "codemirror_mode": {
    "name": "ipython",
    "version": 3
   },
   "file_extension": ".py",
   "mimetype": "text/x-python",
   "name": "python",
   "nbconvert_exporter": "python",
   "pygments_lexer": "ipython3",
   "version": "3.7.9"
  }
 },
 "nbformat": 4,
 "nbformat_minor": 4
}
